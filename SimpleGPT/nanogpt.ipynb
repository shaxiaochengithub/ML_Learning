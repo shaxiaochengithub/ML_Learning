{
 "cells": [
  {
   "cell_type": "code",
   "execution_count": 1,
   "id": "98c02b84",
   "metadata": {},
   "outputs": [
    {
     "name": "stdout",
     "output_type": "stream",
     "text": [
      "First Citizen:\n",
      "Before we proceed any further, hear\n"
     ]
    }
   ],
   "source": [
    "with open('input.txt', 'r', encoding='utf-8') as f:\n",
    "    text = f.read()\n",
    "\n",
    "print(text[0:50])\n",
    "\n"
   ]
  },
  {
   "cell_type": "code",
   "execution_count": 2,
   "id": "5522b74f",
   "metadata": {},
   "outputs": [
    {
     "name": "stdout",
     "output_type": "stream",
     "text": [
      "[21, 1, 50, 53, 60, 43, 1, 45, 53, 47, 52, 45, 1, 58, 53, 1, 58, 46, 43, 1, 54, 39, 56, 49]\n",
      "I love going to the park\n"
     ]
    }
   ],
   "source": [
    "chars = sorted(set(text))\n",
    "\n",
    "stoi = { ch:i for i, ch in enumerate(chars)}\n",
    "itos = {i:ch for i, ch in enumerate(chars)}\n",
    "encode = lambda s: [stoi[c] for c in s]\n",
    "decode = lambda l: ''.join([itos[i] for i in l])\n",
    "print(encode(\"I love going to the park\"))\n",
    "print(decode(encode(\"I love going to the park\")))"
   ]
  },
  {
   "cell_type": "code",
   "execution_count": 9,
   "id": "814a4fc1",
   "metadata": {},
   "outputs": [
    {
     "name": "stdout",
     "output_type": "stream",
     "text": [
      "tensor([[0., 1., 1., 1., 1., 1., 1., 1., 1., 1., 1.]])\n",
      "torch.Size([1, 11])\n"
     ]
    }
   ],
   "source": [
    "import torch\n",
    "idx = torch.zeros((1,1))\n",
    "for _ in range(10):\n",
    "\n",
    "            idx_cond = idx[:, -8:]\n",
    "\n",
    "            \n",
    "            idx_next = torch.ones((1, 1))\n",
    "            idx = torch.cat((idx, idx_next), dim=1)\n",
    "\n",
    "print(idx)    \n",
    "print(idx.shape)"
   ]
  },
  {
   "cell_type": "code",
   "execution_count": null,
   "id": "6404a6e2",
   "metadata": {},
   "outputs": [],
   "source": [
    "e = dict()\n",
    "print(len(chars))\n",
    "for i in range(len(chars)):\n",
    "    e[chars[i]] = i\n",
    "print(e['\\n'])\n",
    "d = dict()\n",
    "i = 0\n",
    "for c in chars:\n",
    "    d[i] = c\n",
    "    i += 1\n",
    "\n",
    "def encoder(input):\n",
    "    output = []\n",
    "    \n",
    "    for c in input:\n",
    "        output.append(e[c])\n",
    "\n",
    "    return output\n",
    "\n",
    "o = encoder(\"\\n !$&',-.3:;?ABCDEFGHIJKLMNOPQRSTUVWXYZabcdefghijklmnopqrstuvwxyz\")\n",
    "print(o)"
   ]
  },
  {
   "cell_type": "code",
   "execution_count": null,
   "id": "623dcc89",
   "metadata": {},
   "outputs": [],
   "source": [
    "for i in range(3):\n",
    "    print(i)"
   ]
  },
  {
   "cell_type": "code",
   "execution_count": 4,
   "id": "092e3f82",
   "metadata": {},
   "outputs": [
    {
     "name": "stdout",
     "output_type": "stream",
     "text": [
      "torch.Size([4])\n",
      "torch.Size([1003854])\n",
      "torch.Size([4, 8])\n"
     ]
    }
   ],
   "source": [
    "import torch\n",
    "import torch.nn as nn\n",
    "import numpy as np\n",
    "\n",
    "with open('input.txt', 'r', encoding='utf-8') as f:\n",
    "    text = f.read()\n",
    "\n",
    "\n",
    "chars = sorted(list(set(text)))\n",
    "stoi = { ch:i for i, ch in enumerate(chars)}\n",
    "itos = {i:ch for i, ch in enumerate(chars)}\n",
    "encode = lambda s: [stoi[c] for c in s]\n",
    "decode = lambda l: ''.join([itos[i] for i in l])\n",
    "\n",
    "torch.manual_seed(1337)\n",
    "block_size = 8\n",
    "batch_size = 4\n",
    "vocab_size = len(chars)\n",
    "\n",
    "data = torch.tensor(encode(text), dtype=torch.long)\n",
    "n = int(0.9*len(data))\n",
    "train_data = data[:n]\n",
    "val_data = data[n:]\n",
    "\n",
    "def get_batch(split):\n",
    "    data = train_data if split == 'train' else val_data\n",
    "    ix = torch.randint(len(data) - block_size, (batch_size,))\n",
    "    x = torch.stack([data[i:i+block_size] for i in ix])\n",
    "    y = torch.stack([data[i+1:i+1+block_size] for i in ix])\n",
    "    return x, y\n",
    "\n",
    "xb, yb = get_batch('train')\n",
    "ebed = nn.Embedding(59, 59)\n",
    "\n",
    "\n",
    "\n",
    "\n",
    "\n",
    "data = train_data\n",
    "ix = torch.randint(len(data) - block_size, (batch_size,))\n",
    "x = torch.stack([data[i:i+block_size] for i in ix])\n",
    "y = torch.stack([data[i+1:i+1+block_size] for i in ix])\n",
    "print(ix.shape)\n",
    "print(data.shape)\n",
    "print(x.shape)\n"
   ]
  },
  {
   "cell_type": "code",
   "execution_count": null,
   "id": "0bbdfc20",
   "metadata": {},
   "outputs": [],
   "source": [
    "torch.cuda.is_available()"
   ]
  },
  {
   "cell_type": "code",
   "execution_count": null,
   "id": "542653ef",
   "metadata": {},
   "outputs": [],
   "source": [
    "ebed = nn.Embedding(100, 50)\n",
    "x = torch.tensor([[1,1,1],[2,2,2]])\n",
    "print(x.data)\n",
    "out = ebed(x)\n",
    "print(out)\n",
    "print(out.shape)"
   ]
  },
  {
   "cell_type": "code",
   "execution_count": 87,
   "id": "eba8e4e7",
   "metadata": {},
   "outputs": [
    {
     "name": "stdout",
     "output_type": "stream",
     "text": [
      "tensor([[ 0.1808, -0.0700],\n",
      "        [-0.0894, -0.4926],\n",
      "        [ 0.1490, -0.3199],\n",
      "        [ 0.3504, -0.2238],\n",
      "        [ 0.3525,  0.0545],\n",
      "        [ 0.0688, -0.0396],\n",
      "        [ 0.0927, -0.0682],\n",
      "        [-0.0341,  0.1332]])\n"
     ]
    }
   ],
   "source": [
    "torch.manual_seed(1337)\n",
    "B,T,C = 4, 8, 2\n",
    "x = torch.randn(B, T, C)\n",
    "xbow = torch.zeros(B, T, C)\n",
    "\n",
    "for b in range(B):\n",
    "    for t in range(T):\n",
    "        xprev = x[b, :t+1]\n",
    "        xbow[b, t] = torch.mean(xprev, 0)\n",
    "\n",
    "print(xbow[0])"
   ]
  },
  {
   "cell_type": "code",
   "execution_count": null,
   "id": "8bd3fe45",
   "metadata": {},
   "outputs": [
    {
     "name": "stdout",
     "output_type": "stream",
     "text": [
      "tensor([[0., 0., 0., 0., 0., 0., 0., 0.],\n",
      "        [0., 0., 0., 0., 0., 0., 0., 0.],\n",
      "        [0., 0., 0., 0., 0., 0., 0., 0.],\n",
      "        [0., 0., 0., 0., 0., 0., 0., 0.],\n",
      "        [0., 0., 0., 0., 0., 0., 0., 0.],\n",
      "        [0., 0., 0., 0., 0., 0., 0., 0.],\n",
      "        [0., 0., 0., 0., 0., 0., 0., 0.],\n",
      "        [0., 0., 0., 0., 0., 0., 0., 0.]])\n",
      "tensor([[1., 0., 0., 0., 0., 0., 0., 0.],\n",
      "        [1., 1., 0., 0., 0., 0., 0., 0.],\n",
      "        [1., 1., 1., 0., 0., 0., 0., 0.],\n",
      "        [1., 1., 1., 1., 0., 0., 0., 0.],\n",
      "        [1., 1., 1., 1., 1., 0., 0., 0.],\n",
      "        [1., 1., 1., 1., 1., 1., 0., 0.],\n",
      "        [1., 1., 1., 1., 1., 1., 1., 0.],\n",
      "        [1., 1., 1., 1., 1., 1., 1., 1.]])\n",
      "tensor([[-inf, -inf, -inf, -inf, -inf, -inf, -inf, -inf],\n",
      "        [-inf, -inf, -inf, -inf, -inf, -inf, -inf, -inf],\n",
      "        [-inf, -inf, -inf, -inf, -inf, -inf, -inf, -inf],\n",
      "        [-inf, -inf, -inf, -inf, -inf, -inf, -inf, -inf],\n",
      "        [-inf, -inf, -inf, -inf, -inf, -inf, -inf, -inf],\n",
      "        [-inf, -inf, -inf, -inf, -inf, -inf, -inf, -inf],\n",
      "        [-inf, -inf, -inf, -inf, -inf, -inf, -inf, -inf],\n",
      "        [-inf, -inf, -inf, -inf, -inf, -inf, -inf, -inf]])\n",
      "tensor([[ 0.1808,    -inf,    -inf,    -inf,    -inf,    -inf,    -inf,    -inf],\n",
      "        [ 0.3612,  1.1679,    -inf,    -inf,    -inf,    -inf,    -inf,    -inf],\n",
      "        [ 1.3488, -0.1396,  0.2858,    -inf,    -inf,    -inf,    -inf,    -inf],\n",
      "        [ 0.1260, -1.5627, -1.1601, -0.3348,    -inf,    -inf,    -inf,    -inf],\n",
      "        [-0.6631, -0.2513,  1.0101,  0.1215,  0.1584,    -inf,    -inf,    -inf],\n",
      "        [-0.5075, -0.9239,  0.5467, -1.4948, -1.2057,  0.5718,    -inf,    -inf],\n",
      "        [ 1.6455, -0.8030,  1.3514, -0.2759, -1.5108,  2.1048,  2.7630,    -inf],\n",
      "        [ 1.4516, -1.5103,  0.8212, -0.2115,  0.7789,  1.5333,  1.6097, -0.4032]])\n"
     ]
    }
   ],
   "source": [
    "torch.manual_seed(1337)\n",
    "T = 8\n",
    "x = torch.randn(T, T)\n",
    "t1 = torch.tril(torch.zeros(T, T))\n",
    "t2 = torch.tril(torch.ones(T, T))\n",
    "x1 = x.masked_fill(t1 == 0, float('-inf'))\n",
    "x2 = x.masked_fill(t2==0, float('-inf'))\n",
    "\n",
    "print(t1)\n",
    "print(t2)\n",
    "print(x1)\n",
    "print(x2)\n",
    "\n",
    "            \n"
   ]
  },
  {
   "cell_type": "code",
   "execution_count": 30,
   "id": "a08ea97c",
   "metadata": {},
   "outputs": [],
   "source": [
    "import torch\n",
    "import torch.nn as nn\n",
    "from torch.nn import functional as F\n",
    "block_size = 8\n",
    "batch_size = 8\n",
    "max_iters = 3000\n",
    "eval_interval = 300\n",
    "learning_rate = 1e-2\n",
    "ebed_size = 32\n",
    "device = \"cuda\"\n",
    "eval_iters = 200\n",
    "head_size = 8"
   ]
  },
  {
   "cell_type": "code",
   "execution_count": 49,
   "id": "055da637",
   "metadata": {},
   "outputs": [
    {
     "name": "stdout",
     "output_type": "stream",
     "text": [
      "input shape: torch.Size([8, 8, 32])\n",
      "Q, shape: torch.Size([8, 8, 8])\n",
      "attn shape: torch.Size([8, 8, 8])\n",
      "Q, shape: torch.Size([8, 8, 8])\n",
      "attn shape: torch.Size([8, 8, 8])\n",
      "Q, shape: torch.Size([8, 8, 8])\n",
      "attn shape: torch.Size([8, 8, 8])\n",
      "Q, shape: torch.Size([8, 8, 8])\n",
      "attn shape: torch.Size([8, 8, 8])\n",
      "torch.Size([8, 8, 32])\n"
     ]
    }
   ],
   "source": [
    "query = nn.Linear(ebed_size, head_size, bias=False, device=device)\n",
    "key = nn.Linear(ebed_size, head_size, bias=False, device=device)\n",
    "value = nn.Linear(ebed_size, head_size, bias=False, device=device)\n",
    "ffn = nn.Linear(ebed_size, vocab_size)\n",
    "layer_norm = nn.LayerNorm(ebed_size)\n",
    "\n",
    "input = torch.randn((batch_size, block_size, ebed_size)).to(device) /5\n",
    "print(\"input shape:\", input.shape) # 10, 8, 32\n",
    "\n",
    "B, T, C = input.shape  #batch size, sequence length, feature dimentionality\n",
    "logitsList = []    \n",
    "for _ in range(int(ebed_size/head_size)):\n",
    "        Q = query(input)\n",
    "        print(\"Q, shape:\", Q.shape)  #10, 8, 12\n",
    "        K = key(input)\n",
    "        V = value(input)\n",
    "        attn = torch.matmul(Q, K.transpose(-2, -1)) * C**-0.5  # (8x12 @ 12x8), 8x8\n",
    "        print(\"attn shape:\", attn.shape)\n",
    "        tril = torch.tril(torch.zeros(T, T)).to(device)\n",
    "\n",
    "            \n",
    "        attn = attn.masked_fill(tril == 0, float('-inf'))\n",
    "        logit = F.softmax(attn, dim=1) @ V   #10x8x8 @ 10x8x12\n",
    "        logitsList.append(logit)\n",
    "\n",
    "print(torch.Tensor(torch.concat(logitsList, dim=-1)).shape)\n",
    "\n"
   ]
  },
  {
   "cell_type": "code",
   "execution_count": 47,
   "id": "15f55722",
   "metadata": {},
   "outputs": [
    {
     "name": "stdout",
     "output_type": "stream",
     "text": [
      "tensor([[[ 0,  1,  2],\n",
      "         [ 3,  4,  5]],\n",
      "\n",
      "        [[ 6,  7,  8],\n",
      "         [ 9, 10, 11]]])\n"
     ]
    },
    {
     "data": {
      "text/plain": [
       "tensor([[[ 0,  1,  2,  0,  1,  2],\n",
       "         [ 3,  4,  5,  3,  4,  5]],\n",
       "\n",
       "        [[ 6,  7,  8,  6,  7,  8],\n",
       "         [ 9, 10, 11,  9, 10, 11]]])"
      ]
     },
     "execution_count": 47,
     "metadata": {},
     "output_type": "execute_result"
    }
   ],
   "source": [
    "a = torch.arange(0,12).reshape(2,2,3)\n",
    "print(a)\n",
    "torch.concat([a, a], dim=-1)"
   ]
  },
  {
   "cell_type": "code",
   "execution_count": 10,
   "id": "efd6422c",
   "metadata": {},
   "outputs": [
    {
     "name": "stdout",
     "output_type": "stream",
     "text": [
      "cuda:0\n",
      "cuda:0\n"
     ]
    }
   ],
   "source": [
    "import torch\n",
    "import torch.nn as nn\n",
    "from torch.nn import functional as F\n",
    "import math\n",
    "import torch.optim as optim\n",
    "\n",
    "torch.manual_seed(1337)\n",
    "block_size = 16\n",
    "batch_size = 4\n",
    "max_iters = 3000\n",
    "eval_interval = 300\n",
    "learning_rate = 1e-2\n",
    "ebed_size = 64\n",
    "device = \"cuda\"\n",
    "eval_iters = 200\n",
    "head_size = 8\n",
    "\n",
    "\n",
    "with open('input.txt', 'r', encoding='utf-8') as f:\n",
    "    text = f.read()\n",
    "\n",
    "\n",
    "chars = sorted(list(set(text)))\n",
    "stoi = { ch:i for i, ch in enumerate(chars)}\n",
    "itos = {i:ch for i, ch in enumerate(chars)}\n",
    "encode = lambda s: [stoi[c] for c in s]\n",
    "decode = lambda l: ''.join([itos[i] for i in l])\n",
    "vocab_size = len(chars)\n",
    "\n",
    "data = torch.tensor(encode(text), dtype=torch.long)\n",
    "n = int(0.9*len(data))\n",
    "train_data = data[:n]\n",
    "val_data = data[n:]\n",
    "\n",
    "\n",
    "x = train_data[:block_size]\n",
    "y = train_data[1:block_size+1]\n",
    "\n",
    "\n",
    "\n",
    "def get_batch(split):\n",
    "    data = train_data if split == 'train' else val_data\n",
    "    # Ensure we don't go out of bounds\n",
    "    ix = torch.randint(len(data) - block_size - 1, (batch_size,))\n",
    "    x = torch.stack([data[i:i+block_size] for i in ix]).to(device)\n",
    "    y = torch.stack([data[i+1:i+1+block_size] for i in ix]).to(device)\n",
    "    \n",
    "    return x, y\n",
    "\n",
    "@torch.no_grad()\n",
    "def estimate_loss(model):\n",
    "    out = {}\n",
    "    model.eval()\n",
    "    for split in ['train', 'val']:\n",
    "        losses = torch.zeros(eval_iters)\n",
    "        for k in range(eval_iters):\n",
    "            X, Y = get_batch(split)\n",
    "            logits, loss = model(X, Y)\n",
    "            losses[k] = loss.item()\n",
    "\n",
    "        out[split] = losses.mean()\n",
    "    model.train()\n",
    "    return out\n",
    "\n",
    "class DecoderBlock(nn.Module):\n",
    "    def __init__(self, ebed_size, head_size):\n",
    "        super().__init__()\n",
    "        self.multi_head = MultiHead(ebed_size, head_size)\n",
    "        self.ffn = nn.Sequential(nn.Linear(ebed_size, 4 * ebed_size), \n",
    "                                  nn.ReLU(),\n",
    "                                  nn.Linear(4*ebed_size, ebed_size))\n",
    "\n",
    "    def forward(self, input):\n",
    "        out = self.multi_head(input)\n",
    "        out = self.ffn(out)        \n",
    "        return out  \n",
    "\n",
    "class MultiHead(nn.Module):\n",
    "    def __init__(self, ebed_size, head_size):\n",
    "        super().__init__()\n",
    "        self.att_head = nn.ModuleList(AttHead(ebed_size, head_size) for _ in range(int(ebed_size/head_size)))\n",
    "        self.proj = nn.Linear(ebed_size, ebed_size)\n",
    "        \n",
    "    def forward(self, input):\n",
    "        out = torch.concat([head(input) for head in self.att_head], dim=-1)\n",
    "        out = self.proj(out)\n",
    "        return out\n",
    "\n",
    "\n",
    "class AttHead(nn.Module):\n",
    "\n",
    "    def __init__(self, ebed_size, head_size):\n",
    "        super().__init__()\n",
    "        self.query = nn.Linear(ebed_size, head_size, bias=False, device=device)\n",
    "        self.key = nn.Linear(ebed_size, head_size, bias=False, device=device)\n",
    "        self.value = nn.Linear(ebed_size, head_size, bias=False, device=device)\n",
    "        \n",
    "    def forward(self, input):\n",
    "        \n",
    "        B, T, C = input.shape  #batch size, sequence length, feature dimentionality\n",
    "        Q = self.query(input)  #4x16x64  -> 4x16x8\n",
    "        K = self.key(input)\n",
    "        V = self.value(input)\n",
    "        attn = torch.matmul(Q, K.transpose(-2, -1)) * C**-0.5  # 4x16x8 @ 4x8x16 -> 4x16x16\n",
    "        tril = torch.tril(torch.zeros(T, T)).to(device)\n",
    "                \n",
    "        attn = attn.masked_fill(tril == 0, float('-inf'))\n",
    "        logits = F.softmax(attn, dim=1) @ V  # 4x16x16 @ 4x16x8 -> 4x16x8\n",
    "            \n",
    "        return logits\n",
    "\n",
    "class nanoGPT(nn.Module):\n",
    "\n",
    "    def __init__(self, vocab_size, ebed_size):\n",
    "        super().__init__()\n",
    "        self.token_embedding_table = nn.Embedding(vocab_size, ebed_size).to(device)\n",
    "        self.pos_embedding_table = nn.Embedding(block_size, ebed_size).to(device)\n",
    "        self.db = DecoderBlock(ebed_size, head_size)\n",
    "        self.final = nn.Linear(ebed_size, vocab_size)\n",
    "\n",
    "    def forward(self, idx, targets=None):\n",
    "\n",
    "        tok_emb = self.token_embedding_table(idx)\n",
    "        pos_emb = self.pos_embedding_table(torch.arange(block_size, device=device))\n",
    "        input = tok_emb + pos_emb\n",
    "        \n",
    "        if targets is None:\n",
    "            loss = None\n",
    "        else:\n",
    "            logits = self.db(input)\n",
    "            logits = self.final(logits)\n",
    "            B, T, C = logits.shape \n",
    "            logits = logits.view(B*T, C)  \n",
    "            \n",
    "            targets = targets.view(B*T).to(device)\n",
    "            \n",
    "            # Before computing loss:\n",
    "            loss = F.cross_entropy(logits, targets).to(device)\n",
    "            \n",
    "\n",
    "        return logits, loss\n",
    "\n",
    "    def generate(self, idx, max_new_tokens):\n",
    "\n",
    "        for _ in range(max_new_tokens):\n",
    "\n",
    "            idx_cond = idx[:, -block_size:]\n",
    "\n",
    "            logits, loss = self(idx_cond)\n",
    "            logits = logits[:, -1, :]\n",
    "            probs = F.softmax(logits, dim=-1)\n",
    "            idx_next = torch.multinomial(probs, num_samples=1)\n",
    "            idx = torch.cat((idx, idx_next), dim=1)\n",
    "\n",
    "        return idx\n",
    "    \n",
    "\n",
    "model = nanoGPT(vocab_size, ebed_size).to(device)\n",
    "\n",
    "xb, yb = get_batch('train')                        # 确保数据在 GPU 上\n",
    "print(next(model.parameters()).device)              # 应输出 \"cuda:0\"\n",
    "print(xb.device)\n",
    "\n",
    "\n"
   ]
  },
  {
   "cell_type": "code",
   "execution_count": 11,
   "id": "fac6ec44",
   "metadata": {},
   "outputs": [
    {
     "name": "stdout",
     "output_type": "stream",
     "text": [
      "True\n",
      "0\n"
     ]
    }
   ],
   "source": [
    "import torch\n",
    "print(torch.cuda.is_available())  # 应输出 True\n",
    "print(torch.cuda.current_device())  # 应输出 0（或其他有效 GPU 索引）"
   ]
  },
  {
   "cell_type": "code",
   "execution_count": 13,
   "id": "06c8503a",
   "metadata": {},
   "outputs": [
    {
     "name": "stdout",
     "output_type": "stream",
     "text": [
      "0\n"
     ]
    }
   ],
   "source": [
    "import os\n",
    "os.environ['CUDA_VISIBLE_DEVICES'] = '0'  # 在代码开头添加\n",
    "print(os.environ.get('CUDA_VISIBLE_DEVICES'))  # 应输出至少一个 GPU 索引（如 \"0\"）"
   ]
  }
 ],
 "metadata": {
  "kernelspec": {
   "display_name": ".venv (3.11.9)",
   "language": "python",
   "name": "python3"
  },
  "language_info": {
   "codemirror_mode": {
    "name": "ipython",
    "version": 3
   },
   "file_extension": ".py",
   "mimetype": "text/x-python",
   "name": "python",
   "nbconvert_exporter": "python",
   "pygments_lexer": "ipython3",
   "version": "3.11.9"
  }
 },
 "nbformat": 4,
 "nbformat_minor": 5
}
