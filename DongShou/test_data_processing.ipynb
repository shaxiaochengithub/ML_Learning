{
 "cells": [
  {
   "cell_type": "code",
   "execution_count": 36,
   "id": "3afc8c21",
   "metadata": {},
   "outputs": [],
   "source": [
    "import torch\n",
    "import os\n",
    "\n",
    "os.makedirs(os.path.join('..', 'data'), exist_ok=True)\n",
    "data_file = os.path.join('..', 'data', 'house_tiny.csv')\n",
    "with open(data_file, 'w') as f:\n",
    "    f.write('NumRooms,Alley,Price\\n')  # 列名\n",
    "    f.write('NA,Pave,127500\\n')  # 每行表示一个数据样本\n",
    "    f.write('2,Double Pave,106000\\n')\n",
    "    f.write('4,NA,178100\\n')\n",
    "    f.write('2,Double Pave,140000\\n')\n",
    "    f.write('1,Pave,127500\\n')  # 每行表示一个数据样本\n",
    "    f.write('2,Double Pave,106000\\n')\n",
    "    f.write('NA,NA,178100\\n')\n",
    "    f.write('3,Double Pave,140000\\n')"
   ]
  },
  {
   "cell_type": "code",
   "execution_count": 41,
   "id": "d9ff8b5e",
   "metadata": {},
   "outputs": [
    {
     "name": "stdout",
     "output_type": "stream",
     "text": [
      "Index(['NumRooms', 'Alley'], dtype='object')\n"
     ]
    }
   ],
   "source": [
    "import pandas as pd\n",
    "data = pd.read_csv(data_file)\n",
    "\n",
    "na_counts = data.isna().sum(axis=0)\n",
    "\n",
    "max_na = na_counts.max()\n",
    "columns_to_drop = na_counts[na_counts == max_na].index\n",
    "\n",
    "print(columns_to_drop)"
   ]
  },
  {
   "cell_type": "code",
   "execution_count": 24,
   "id": "5de0189f",
   "metadata": {},
   "outputs": [
    {
     "name": "stdout",
     "output_type": "stream",
     "text": [
      "   NumRooms        Alley\n",
      "0       NaN         Pave\n",
      "1       2.0  Double Pave\n",
      "2       4.0          NaN\n",
      "3       NaN  Double Pave 0    127500\n",
      "1    106000\n",
      "2    178100\n",
      "3    140000\n",
      "Name: Price, dtype: int64\n",
      "   NumRooms        Alley\n",
      "0       3.0         Pave\n",
      "1       2.0  Double Pave\n",
      "2       4.0          NaN\n",
      "3       3.0  Double Pave\n"
     ]
    }
   ],
   "source": [
    "inputs, outputs = data.iloc[:, 0:2], data.iloc[:, 2]\n",
    "print(inputs, outputs)\n",
    "inputs['NumRooms'] = inputs['NumRooms'].fillna(inputs['NumRooms'].mean())\n",
    "print(inputs)"
   ]
  },
  {
   "cell_type": "code",
   "execution_count": 25,
   "id": "9487b221",
   "metadata": {},
   "outputs": [
    {
     "name": "stdout",
     "output_type": "stream",
     "text": [
      "   NumRooms  Alley_Double Pave  Alley_Pave  Alley_nan\n",
      "0       3.0              False        True      False\n",
      "1       2.0               True       False      False\n",
      "2       4.0              False       False       True\n",
      "3       3.0               True       False      False\n"
     ]
    }
   ],
   "source": [
    "inputs = pd.get_dummies(inputs, dummy_na=True)\n",
    "print(inputs)"
   ]
  },
  {
   "cell_type": "code",
   "execution_count": 26,
   "id": "1955b960",
   "metadata": {},
   "outputs": [
    {
     "data": {
      "text/plain": [
       "(tensor([[3., 0., 1., 0.],\n",
       "         [2., 1., 0., 0.],\n",
       "         [4., 0., 0., 1.],\n",
       "         [3., 1., 0., 0.]], dtype=torch.float64),\n",
       " tensor([127500., 106000., 178100., 140000.], dtype=torch.float64))"
      ]
     },
     "execution_count": 26,
     "metadata": {},
     "output_type": "execute_result"
    }
   ],
   "source": [
    "import torch\n",
    "\n",
    "X = torch.tensor(inputs.to_numpy(dtype=float))\n",
    "y = torch.tensor(outputs.to_numpy(dtype=float))\n",
    "X, y"
   ]
  }
 ],
 "metadata": {
  "kernelspec": {
   "display_name": "Python 3",
   "language": "python",
   "name": "python3"
  },
  "language_info": {
   "codemirror_mode": {
    "name": "ipython",
    "version": 3
   },
   "file_extension": ".py",
   "mimetype": "text/x-python",
   "name": "python",
   "nbconvert_exporter": "python",
   "pygments_lexer": "ipython3",
   "version": "3.12.1"
  }
 },
 "nbformat": 4,
 "nbformat_minor": 5
}
