{
 "cells": [
  {
   "cell_type": "code",
   "execution_count": 16,
   "id": "92ca6570",
   "metadata": {},
   "outputs": [
    {
     "name": "stdout",
     "output_type": "stream",
     "text": [
      "[0, 1, 1, 2, 3, 3, 4, 4, 4, 5, 6, 7, 8, 9, 10, 11, 12, 13, 14, 15, 100]\n"
     ]
    }
   ],
   "source": [
    "\n",
    "class Solution:\n",
    "    def __init__(self, lists):\n",
    "        self.lists = lists\n",
    "\n",
    "    def mergeKLists(self, lists=None):\n",
    "        lists = self.lists\n",
    "        \n",
    "        tmp = []\n",
    "        for l in lists:\n",
    "            for n in l:\n",
    "                tmp.append(n)\n",
    "\n",
    "        k = len(tmp)\n",
    "        tmp.sort()\n",
    "        '''\n",
    "        while (k):\n",
    "            k -= 1\n",
    "            mini = min(tmp)\n",
    "            result.append(mini)\n",
    "            tmp.remove(mini)\n",
    "        '''\n",
    "        return tmp\n",
    "\n",
    "\n",
    "lists = [[1,4,5],[1,3,4],[2,6], [7, 0, 3, 4, 100, 12], [8, 9, 10, 11, 13, 14, 15]]\n",
    "sol = Solution(lists)\n",
    "result = sol.mergeKLists()\n",
    "print(result)"
   ]
  }
 ],
 "metadata": {
  "kernelspec": {
   "display_name": "Python 3",
   "language": "python",
   "name": "python3"
  },
  "language_info": {
   "codemirror_mode": {
    "name": "ipython",
    "version": 3
   },
   "file_extension": ".py",
   "mimetype": "text/x-python",
   "name": "python",
   "nbconvert_exporter": "python",
   "pygments_lexer": "ipython3",
   "version": "3.12.1"
  }
 },
 "nbformat": 4,
 "nbformat_minor": 5
}
